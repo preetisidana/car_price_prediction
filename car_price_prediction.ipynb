{
 "cells": [
  {
   "cell_type": "markdown",
   "metadata": {},
   "source": [
    "# Car Price Prediction"
   ]
  },
  {
   "cell_type": "code",
   "execution_count": 55,
   "metadata": {},
   "outputs": [],
   "source": [
    "# importing libaries\n",
    "\n",
    "import pandas as pd\n",
    "import numpy as np\n",
    "import matplotlib.pyplot as plt\n",
    "import seaborn as sns\n",
    "from sklearn.preprocessing import LabelEncoder\n",
    "from sklearn.compose import ColumnTransformer\n",
    "from sklearn.preprocessing import OneHotEncoder\n",
    "from sklearn.preprocessing import MinMaxScaler\n",
    "from sklearn.neighbors import NearestNeighbors\n",
    "from sklearn.cluster import DBSCAN\n",
    "\n",
    "\n",
    "import warnings\n",
    "warnings.filterwarnings('ignore')\n",
    "\n",
    "pd.set_option('display.float_format',lambda x:'%.3f' % x)\n"
   ]
  },
  {
   "cell_type": "code",
   "execution_count": 56,
   "metadata": {},
   "outputs": [],
   "source": [
    "# Load the data set\n",
    "df = pd.read_csv('z_Car.csv')"
   ]
  },
  {
   "cell_type": "code",
   "execution_count": 57,
   "metadata": {},
   "outputs": [
    {
     "data": {
      "text/html": [
       "<div>\n",
       "<style scoped>\n",
       "    .dataframe tbody tr th:only-of-type {\n",
       "        vertical-align: middle;\n",
       "    }\n",
       "\n",
       "    .dataframe tbody tr th {\n",
       "        vertical-align: top;\n",
       "    }\n",
       "\n",
       "    .dataframe thead th {\n",
       "        text-align: right;\n",
       "    }\n",
       "</style>\n",
       "<table border=\"1\" class=\"dataframe\">\n",
       "  <thead>\n",
       "    <tr style=\"text-align: right;\">\n",
       "      <th></th>\n",
       "      <th>Unnamed: 0</th>\n",
       "      <th>name</th>\n",
       "      <th>year</th>\n",
       "      <th>selling_price</th>\n",
       "      <th>km_driven</th>\n",
       "      <th>fuel</th>\n",
       "      <th>seller_type</th>\n",
       "      <th>transmission</th>\n",
       "      <th>owner</th>\n",
       "      <th>mileage</th>\n",
       "      <th>engine</th>\n",
       "      <th>max_power</th>\n",
       "      <th>torque</th>\n",
       "      <th>seats</th>\n",
       "    </tr>\n",
       "  </thead>\n",
       "  <tbody>\n",
       "    <tr>\n",
       "      <th>0</th>\n",
       "      <td>0</td>\n",
       "      <td>Maruti Swift Dzire VDI</td>\n",
       "      <td>2014</td>\n",
       "      <td>450000</td>\n",
       "      <td>145500</td>\n",
       "      <td>Diesel</td>\n",
       "      <td>Individual</td>\n",
       "      <td>Manual</td>\n",
       "      <td>First Owner</td>\n",
       "      <td>23.4 kmpl</td>\n",
       "      <td>1248 CC</td>\n",
       "      <td>74 bhp</td>\n",
       "      <td>190Nm@ 2000rpm</td>\n",
       "      <td>5.000</td>\n",
       "    </tr>\n",
       "    <tr>\n",
       "      <th>1</th>\n",
       "      <td>1</td>\n",
       "      <td>Skoda Rapid 1.5 TDI Ambition</td>\n",
       "      <td>2014</td>\n",
       "      <td>370000</td>\n",
       "      <td>120000</td>\n",
       "      <td>Diesel</td>\n",
       "      <td>Individual</td>\n",
       "      <td>Manual</td>\n",
       "      <td>Second Owner</td>\n",
       "      <td>21.14 kmpl</td>\n",
       "      <td>1498 CC</td>\n",
       "      <td>103.52 bhp</td>\n",
       "      <td>250Nm@ 1500-2500rpm</td>\n",
       "      <td>5.000</td>\n",
       "    </tr>\n",
       "    <tr>\n",
       "      <th>2</th>\n",
       "      <td>2</td>\n",
       "      <td>Honda City 2017-2020 EXi</td>\n",
       "      <td>2006</td>\n",
       "      <td>158000</td>\n",
       "      <td>140000</td>\n",
       "      <td>Petrol</td>\n",
       "      <td>Individual</td>\n",
       "      <td>Manual</td>\n",
       "      <td>Third Owner</td>\n",
       "      <td>17.7 kmpl</td>\n",
       "      <td>1497 CC</td>\n",
       "      <td>78 bhp</td>\n",
       "      <td>12.7@ 2,700(kgm@ rpm)</td>\n",
       "      <td>5.000</td>\n",
       "    </tr>\n",
       "    <tr>\n",
       "      <th>3</th>\n",
       "      <td>3</td>\n",
       "      <td>Hyundai i20 Sportz Diesel</td>\n",
       "      <td>2010</td>\n",
       "      <td>225000</td>\n",
       "      <td>127000</td>\n",
       "      <td>Diesel</td>\n",
       "      <td>Individual</td>\n",
       "      <td>Manual</td>\n",
       "      <td>First Owner</td>\n",
       "      <td>23.0 kmpl</td>\n",
       "      <td>1396 CC</td>\n",
       "      <td>90 bhp</td>\n",
       "      <td>22.4 kgm at 1750-2750rpm</td>\n",
       "      <td>5.000</td>\n",
       "    </tr>\n",
       "    <tr>\n",
       "      <th>4</th>\n",
       "      <td>4</td>\n",
       "      <td>Maruti Swift VXI BSIII</td>\n",
       "      <td>2007</td>\n",
       "      <td>130000</td>\n",
       "      <td>120000</td>\n",
       "      <td>Petrol</td>\n",
       "      <td>Individual</td>\n",
       "      <td>Manual</td>\n",
       "      <td>First Owner</td>\n",
       "      <td>16.1 kmpl</td>\n",
       "      <td>1298 CC</td>\n",
       "      <td>88.2 bhp</td>\n",
       "      <td>11.5@ 4,500(kgm@ rpm)</td>\n",
       "      <td>5.000</td>\n",
       "    </tr>\n",
       "  </tbody>\n",
       "</table>\n",
       "</div>"
      ],
      "text/plain": [
       "   Unnamed: 0                          name  year  selling_price  km_driven  \\\n",
       "0           0        Maruti Swift Dzire VDI  2014         450000     145500   \n",
       "1           1  Skoda Rapid 1.5 TDI Ambition  2014         370000     120000   \n",
       "2           2      Honda City 2017-2020 EXi  2006         158000     140000   \n",
       "3           3     Hyundai i20 Sportz Diesel  2010         225000     127000   \n",
       "4           4        Maruti Swift VXI BSIII  2007         130000     120000   \n",
       "\n",
       "     fuel seller_type transmission         owner     mileage   engine  \\\n",
       "0  Diesel  Individual       Manual   First Owner   23.4 kmpl  1248 CC   \n",
       "1  Diesel  Individual       Manual  Second Owner  21.14 kmpl  1498 CC   \n",
       "2  Petrol  Individual       Manual   Third Owner   17.7 kmpl  1497 CC   \n",
       "3  Diesel  Individual       Manual   First Owner   23.0 kmpl  1396 CC   \n",
       "4  Petrol  Individual       Manual   First Owner   16.1 kmpl  1298 CC   \n",
       "\n",
       "    max_power                    torque  seats  \n",
       "0      74 bhp            190Nm@ 2000rpm  5.000  \n",
       "1  103.52 bhp       250Nm@ 1500-2500rpm  5.000  \n",
       "2      78 bhp     12.7@ 2,700(kgm@ rpm)  5.000  \n",
       "3      90 bhp  22.4 kgm at 1750-2750rpm  5.000  \n",
       "4    88.2 bhp     11.5@ 4,500(kgm@ rpm)  5.000  "
      ]
     },
     "execution_count": 57,
     "metadata": {},
     "output_type": "execute_result"
    }
   ],
   "source": [
    "df.head()"
   ]
  },
  {
   "cell_type": "code",
   "execution_count": 58,
   "metadata": {},
   "outputs": [],
   "source": [
    "# to drop unnamed column\n",
    "df.drop(['Unnamed: 0'],axis=1,inplace=True)"
   ]
  },
  {
   "cell_type": "markdown",
   "metadata": {},
   "source": [
    "# Missing Values"
   ]
  },
  {
   "cell_type": "code",
   "execution_count": 59,
   "metadata": {},
   "outputs": [
    {
     "data": {
      "text/plain": [
       "name               0\n",
       "year               0\n",
       "selling_price      0\n",
       "km_driven          0\n",
       "fuel               0\n",
       "seller_type        0\n",
       "transmission       0\n",
       "owner              0\n",
       "mileage          221\n",
       "engine           221\n",
       "max_power        215\n",
       "torque           221\n",
       "seats            221\n",
       "dtype: int64"
      ]
     },
     "execution_count": 59,
     "metadata": {},
     "output_type": "execute_result"
    }
   ],
   "source": [
    "df.isnull().sum()"
   ]
  },
  {
   "cell_type": "code",
   "execution_count": 60,
   "metadata": {},
   "outputs": [],
   "source": [
    "# to drop the null values\n",
    "df=df.dropna()\n",
    "df=df.reset_index(drop='True')"
   ]
  },
  {
   "cell_type": "code",
   "execution_count": 61,
   "metadata": {},
   "outputs": [
    {
     "name": "stdout",
     "output_type": "stream",
     "text": [
      "<class 'pandas.core.frame.DataFrame'>\n",
      "RangeIndex: 7906 entries, 0 to 7905\n",
      "Data columns (total 13 columns):\n",
      " #   Column         Non-Null Count  Dtype  \n",
      "---  ------         --------------  -----  \n",
      " 0   name           7906 non-null   object \n",
      " 1   year           7906 non-null   int64  \n",
      " 2   selling_price  7906 non-null   int64  \n",
      " 3   km_driven      7906 non-null   int64  \n",
      " 4   fuel           7906 non-null   object \n",
      " 5   seller_type    7906 non-null   object \n",
      " 6   transmission   7906 non-null   object \n",
      " 7   owner          7906 non-null   object \n",
      " 8   mileage        7906 non-null   object \n",
      " 9   engine         7906 non-null   object \n",
      " 10  max_power      7906 non-null   object \n",
      " 11  torque         7906 non-null   object \n",
      " 12  seats          7906 non-null   float64\n",
      "dtypes: float64(1), int64(3), object(9)\n",
      "memory usage: 803.1+ KB\n"
     ]
    }
   ],
   "source": [
    "df.info()"
   ]
  },
  {
   "cell_type": "code",
   "execution_count": 62,
   "metadata": {},
   "outputs": [
    {
     "data": {
      "text/html": [
       "<div>\n",
       "<style scoped>\n",
       "    .dataframe tbody tr th:only-of-type {\n",
       "        vertical-align: middle;\n",
       "    }\n",
       "\n",
       "    .dataframe tbody tr th {\n",
       "        vertical-align: top;\n",
       "    }\n",
       "\n",
       "    .dataframe thead th {\n",
       "        text-align: right;\n",
       "    }\n",
       "</style>\n",
       "<table border=\"1\" class=\"dataframe\">\n",
       "  <thead>\n",
       "    <tr style=\"text-align: right;\">\n",
       "      <th></th>\n",
       "      <th>year</th>\n",
       "      <th>selling_price</th>\n",
       "      <th>km_driven</th>\n",
       "      <th>seats</th>\n",
       "    </tr>\n",
       "  </thead>\n",
       "  <tbody>\n",
       "    <tr>\n",
       "      <th>count</th>\n",
       "      <td>7906.000</td>\n",
       "      <td>7906.000</td>\n",
       "      <td>7906.000</td>\n",
       "      <td>7906.000</td>\n",
       "    </tr>\n",
       "    <tr>\n",
       "      <th>mean</th>\n",
       "      <td>2013.984</td>\n",
       "      <td>649813.721</td>\n",
       "      <td>69188.660</td>\n",
       "      <td>5.416</td>\n",
       "    </tr>\n",
       "    <tr>\n",
       "      <th>std</th>\n",
       "      <td>3.864</td>\n",
       "      <td>813582.748</td>\n",
       "      <td>56792.296</td>\n",
       "      <td>0.959</td>\n",
       "    </tr>\n",
       "    <tr>\n",
       "      <th>min</th>\n",
       "      <td>1994.000</td>\n",
       "      <td>29999.000</td>\n",
       "      <td>1.000</td>\n",
       "      <td>2.000</td>\n",
       "    </tr>\n",
       "    <tr>\n",
       "      <th>25%</th>\n",
       "      <td>2012.000</td>\n",
       "      <td>270000.000</td>\n",
       "      <td>35000.000</td>\n",
       "      <td>5.000</td>\n",
       "    </tr>\n",
       "    <tr>\n",
       "      <th>50%</th>\n",
       "      <td>2015.000</td>\n",
       "      <td>450000.000</td>\n",
       "      <td>60000.000</td>\n",
       "      <td>5.000</td>\n",
       "    </tr>\n",
       "    <tr>\n",
       "      <th>75%</th>\n",
       "      <td>2017.000</td>\n",
       "      <td>690000.000</td>\n",
       "      <td>95425.000</td>\n",
       "      <td>5.000</td>\n",
       "    </tr>\n",
       "    <tr>\n",
       "      <th>max</th>\n",
       "      <td>2020.000</td>\n",
       "      <td>10000000.000</td>\n",
       "      <td>2360457.000</td>\n",
       "      <td>14.000</td>\n",
       "    </tr>\n",
       "  </tbody>\n",
       "</table>\n",
       "</div>"
      ],
      "text/plain": [
       "          year  selling_price   km_driven    seats\n",
       "count 7906.000       7906.000    7906.000 7906.000\n",
       "mean  2013.984     649813.721   69188.660    5.416\n",
       "std      3.864     813582.748   56792.296    0.959\n",
       "min   1994.000      29999.000       1.000    2.000\n",
       "25%   2012.000     270000.000   35000.000    5.000\n",
       "50%   2015.000     450000.000   60000.000    5.000\n",
       "75%   2017.000     690000.000   95425.000    5.000\n",
       "max   2020.000   10000000.000 2360457.000   14.000"
      ]
     },
     "execution_count": 62,
     "metadata": {},
     "output_type": "execute_result"
    }
   ],
   "source": [
    "df.describe()"
   ]
  },
  {
   "cell_type": "markdown",
   "metadata": {},
   "source": [
    "# To deal with coloumns line wise.\n",
    "1. Seats"
   ]
  },
  {
   "cell_type": "code",
   "execution_count": 63,
   "metadata": {},
   "outputs": [
    {
     "data": {
      "text/plain": [
       "5.000     6254\n",
       "7.000     1120\n",
       "8.000      235\n",
       "4.000      133\n",
       "9.000       80\n",
       "6.000       62\n",
       "10.000      19\n",
       "2.000        2\n",
       "14.000       1\n",
       "Name: seats, dtype: int64"
      ]
     },
     "execution_count": 63,
     "metadata": {},
     "output_type": "execute_result"
    }
   ],
   "source": [
    "df['seats'].value_counts()"
   ]
  },
  {
   "cell_type": "markdown",
   "metadata": {},
   "source": [
    "2. Torque\n",
    "\n",
    "-->as its is non catorigical coloumn and it cannot be modified.\n",
    "so will have to drop"
   ]
  },
  {
   "cell_type": "code",
   "execution_count": 64,
   "metadata": {},
   "outputs": [
    {
     "data": {
      "text/plain": [
       "dtype('O')"
      ]
     },
     "execution_count": 64,
     "metadata": {},
     "output_type": "execute_result"
    }
   ],
   "source": [
    "df['torque'].dtype"
   ]
  },
  {
   "cell_type": "code",
   "execution_count": 65,
   "metadata": {},
   "outputs": [],
   "source": [
    "df=df.drop(columns='torque')"
   ]
  },
  {
   "cell_type": "markdown",
   "metadata": {},
   "source": [
    "3. Max_power\n"
   ]
  },
  {
   "cell_type": "code",
   "execution_count": 66,
   "metadata": {},
   "outputs": [
    {
     "data": {
      "text/plain": [
       "dtype('O')"
      ]
     },
     "execution_count": 66,
     "metadata": {},
     "output_type": "execute_result"
    }
   ],
   "source": [
    "df['max_power'].dtype"
   ]
  },
  {
   "cell_type": "code",
   "execution_count": 67,
   "metadata": {},
   "outputs": [
    {
     "data": {
      "text/plain": [
       "dtype('O')"
      ]
     },
     "execution_count": 67,
     "metadata": {},
     "output_type": "execute_result"
    }
   ],
   "source": [
    "# to remove the units\n",
    "def fxn(x):\n",
    "    \n",
    "    return x.split(\" \")[0]\n",
    "\n",
    "\n",
    "df['max_power']=df['max_power'].apply(fxn)\n",
    "df['max_power'].dtype"
   ]
  },
  {
   "cell_type": "code",
   "execution_count": 68,
   "metadata": {},
   "outputs": [],
   "source": [
    "# we cannot convert the above column into float so there are some values which have only units so to remove that coloumns.\n",
    "corrupt=[]\n",
    "for i in range(len(df)):\n",
    "    try:\n",
    "        float(df.iloc[i,-2])\n",
    "    except:\n",
    "        corrupt.append(i)\n",
    "\n",
    "df=df.drop(index=corrupt)\n",
    "\n",
    "\n",
    "df = df.reset_index(drop=True)"
   ]
  },
  {
   "cell_type": "code",
   "execution_count": 69,
   "metadata": {},
   "outputs": [
    {
     "data": {
      "text/plain": [
       "dtype('float32')"
      ]
     },
     "execution_count": 69,
     "metadata": {},
     "output_type": "execute_result"
    }
   ],
   "source": [
    "df['max_power']=df['max_power'].astype('float32')\n",
    "df['max_power'].dtype"
   ]
  },
  {
   "cell_type": "markdown",
   "metadata": {},
   "source": [
    "4. Engine"
   ]
  },
  {
   "cell_type": "code",
   "execution_count": 70,
   "metadata": {},
   "outputs": [
    {
     "data": {
      "text/plain": [
       "dtype('O')"
      ]
     },
     "execution_count": 70,
     "metadata": {},
     "output_type": "execute_result"
    }
   ],
   "source": [
    "df['engine'].dtype"
   ]
  },
  {
   "cell_type": "code",
   "execution_count": 71,
   "metadata": {},
   "outputs": [],
   "source": [
    "df['engine']=df['engine'].apply(fxn)\n",
    "corrupt=[]\n",
    "for i in range(len(df)):\n",
    "    try:\n",
    "         float(df.iloc[i,-3])\n",
    "    except:\n",
    "         corrupt.append(i)\n",
    "\n",
    "\n",
    "df = df.drop(index=corrupt)\n",
    "\n",
    "df['engine']=df['engine'].astype('float32')"
   ]
  },
  {
   "cell_type": "markdown",
   "metadata": {},
   "source": [
    "5. Mileage"
   ]
  },
  {
   "cell_type": "code",
   "execution_count": 72,
   "metadata": {},
   "outputs": [],
   "source": [
    "df['mileage']=df['mileage'].apply(fxn)\n",
    "corrupt=[]\n",
    "for i in range(len(df)):\n",
    "    try:\n",
    "         float(df.iloc[i,-4])\n",
    "    except:\n",
    "         corrupt.append(i)\n",
    "\n",
    "\n",
    "df = df.drop(index=corrupt)\n",
    "\n",
    "df['mileage']=df['mileage'].astype('float32')"
   ]
  },
  {
   "cell_type": "markdown",
   "metadata": {},
   "source": [
    "6. Owner\n",
    "(catorigical column)"
   ]
  },
  {
   "cell_type": "code",
   "execution_count": 73,
   "metadata": {},
   "outputs": [
    {
     "data": {
      "text/plain": [
       "First Owner             5214\n",
       "Second Owner            2015\n",
       "Third Owner              510\n",
       "Fifth                     86\n",
       "Fourth & Above Owner      74\n",
       "Test Drive Car             5\n",
       "Name: owner, dtype: int64"
      ]
     },
     "execution_count": 73,
     "metadata": {},
     "output_type": "execute_result"
    }
   ],
   "source": [
    "df['owner'].value_counts()"
   ]
  },
  {
   "cell_type": "code",
   "execution_count": 74,
   "metadata": {},
   "outputs": [
    {
     "data": {
      "text/plain": [
       "First Owner             5214\n",
       "Second Owner            2015\n",
       "Third Owner              510\n",
       "Fourth & Above Owner     160\n",
       "Test Drive Car             5\n",
       "Name: owner, dtype: int64"
      ]
     },
     "execution_count": 74,
     "metadata": {},
     "output_type": "execute_result"
    }
   ],
   "source": [
    "df['owner']=df['owner'].replace({'Fifth':'Fourth & Above Owner'})\n",
    "df['owner'].value_counts()"
   ]
  },
  {
   "cell_type": "code",
   "execution_count": 75,
   "metadata": {},
   "outputs": [
    {
     "data": {
      "text/html": [
       "<div>\n",
       "<style scoped>\n",
       "    .dataframe tbody tr th:only-of-type {\n",
       "        vertical-align: middle;\n",
       "    }\n",
       "\n",
       "    .dataframe tbody tr th {\n",
       "        vertical-align: top;\n",
       "    }\n",
       "\n",
       "    .dataframe thead th {\n",
       "        text-align: right;\n",
       "    }\n",
       "</style>\n",
       "<table border=\"1\" class=\"dataframe\">\n",
       "  <thead>\n",
       "    <tr style=\"text-align: right;\">\n",
       "      <th></th>\n",
       "      <th>name</th>\n",
       "      <th>year</th>\n",
       "      <th>selling_price</th>\n",
       "      <th>km_driven</th>\n",
       "      <th>fuel</th>\n",
       "      <th>seller_type</th>\n",
       "      <th>transmission</th>\n",
       "      <th>owner</th>\n",
       "      <th>mileage</th>\n",
       "      <th>engine</th>\n",
       "      <th>max_power</th>\n",
       "      <th>seats</th>\n",
       "    </tr>\n",
       "  </thead>\n",
       "  <tbody>\n",
       "    <tr>\n",
       "      <th>4255</th>\n",
       "      <td>Volkswagen Vento 1.5 TDI Highline BSIV</td>\n",
       "      <td>2019</td>\n",
       "      <td>1350000</td>\n",
       "      <td>5400</td>\n",
       "      <td>Diesel</td>\n",
       "      <td>Dealer</td>\n",
       "      <td>Manual</td>\n",
       "      <td>Test Drive Car</td>\n",
       "      <td>22.270</td>\n",
       "      <td>1498.000</td>\n",
       "      <td>108.600</td>\n",
       "      <td>5.000</td>\n",
       "    </tr>\n",
       "    <tr>\n",
       "      <th>4810</th>\n",
       "      <td>Audi A6 35 TFSI Matrix</td>\n",
       "      <td>2019</td>\n",
       "      <td>6223000</td>\n",
       "      <td>7800</td>\n",
       "      <td>Petrol</td>\n",
       "      <td>Dealer</td>\n",
       "      <td>Automatic</td>\n",
       "      <td>Test Drive Car</td>\n",
       "      <td>15.260</td>\n",
       "      <td>1798.000</td>\n",
       "      <td>187.740</td>\n",
       "      <td>5.000</td>\n",
       "    </tr>\n",
       "    <tr>\n",
       "      <th>4811</th>\n",
       "      <td>Audi A6 35 TFSI Matrix</td>\n",
       "      <td>2019</td>\n",
       "      <td>5923000</td>\n",
       "      <td>11500</td>\n",
       "      <td>Petrol</td>\n",
       "      <td>Dealer</td>\n",
       "      <td>Automatic</td>\n",
       "      <td>Test Drive Car</td>\n",
       "      <td>15.260</td>\n",
       "      <td>1798.000</td>\n",
       "      <td>187.740</td>\n",
       "      <td>5.000</td>\n",
       "    </tr>\n",
       "    <tr>\n",
       "      <th>4812</th>\n",
       "      <td>Audi A6 35 TFSI Matrix</td>\n",
       "      <td>2019</td>\n",
       "      <td>6523000</td>\n",
       "      <td>23600</td>\n",
       "      <td>Petrol</td>\n",
       "      <td>Dealer</td>\n",
       "      <td>Automatic</td>\n",
       "      <td>Test Drive Car</td>\n",
       "      <td>15.260</td>\n",
       "      <td>1798.000</td>\n",
       "      <td>187.740</td>\n",
       "      <td>5.000</td>\n",
       "    </tr>\n",
       "    <tr>\n",
       "      <th>6046</th>\n",
       "      <td>Honda Civic ZX</td>\n",
       "      <td>2019</td>\n",
       "      <td>2000000</td>\n",
       "      <td>24857</td>\n",
       "      <td>Petrol</td>\n",
       "      <td>Dealer</td>\n",
       "      <td>Automatic</td>\n",
       "      <td>Test Drive Car</td>\n",
       "      <td>16.500</td>\n",
       "      <td>1799.000</td>\n",
       "      <td>139.460</td>\n",
       "      <td>5.000</td>\n",
       "    </tr>\n",
       "  </tbody>\n",
       "</table>\n",
       "</div>"
      ],
      "text/plain": [
       "                                        name  year  selling_price  km_driven  \\\n",
       "4255  Volkswagen Vento 1.5 TDI Highline BSIV  2019        1350000       5400   \n",
       "4810                  Audi A6 35 TFSI Matrix  2019        6223000       7800   \n",
       "4811                  Audi A6 35 TFSI Matrix  2019        5923000      11500   \n",
       "4812                  Audi A6 35 TFSI Matrix  2019        6523000      23600   \n",
       "6046                          Honda Civic ZX  2019        2000000      24857   \n",
       "\n",
       "        fuel seller_type transmission           owner  mileage   engine  \\\n",
       "4255  Diesel      Dealer       Manual  Test Drive Car   22.270 1498.000   \n",
       "4810  Petrol      Dealer    Automatic  Test Drive Car   15.260 1798.000   \n",
       "4811  Petrol      Dealer    Automatic  Test Drive Car   15.260 1798.000   \n",
       "4812  Petrol      Dealer    Automatic  Test Drive Car   15.260 1798.000   \n",
       "6046  Petrol      Dealer    Automatic  Test Drive Car   16.500 1799.000   \n",
       "\n",
       "      max_power  seats  \n",
       "4255    108.600  5.000  \n",
       "4810    187.740  5.000  \n",
       "4811    187.740  5.000  \n",
       "4812    187.740  5.000  \n",
       "6046    139.460  5.000  "
      ]
     },
     "execution_count": 75,
     "metadata": {},
     "output_type": "execute_result"
    }
   ],
   "source": [
    "# drop test drive car\n",
    "f = df['owner']=='Test Drive Car'\n",
    "df[f]"
   ]
  },
  {
   "cell_type": "code",
   "execution_count": 76,
   "metadata": {},
   "outputs": [],
   "source": [
    "df=df.drop(index=df[f].index)\n",
    "df=df.reset_index(drop=True)"
   ]
  },
  {
   "cell_type": "markdown",
   "metadata": {},
   "source": [
    "7.  Transmission\n",
    " \n",
    " (catorigical column)\n"
   ]
  },
  {
   "cell_type": "code",
   "execution_count": 77,
   "metadata": {},
   "outputs": [
    {
     "data": {
      "text/plain": [
       "Manual       6862\n",
       "Automatic    1037\n",
       "Name: transmission, dtype: int64"
      ]
     },
     "execution_count": 77,
     "metadata": {},
     "output_type": "execute_result"
    }
   ],
   "source": [
    "df['transmission'].value_counts()"
   ]
  },
  {
   "cell_type": "markdown",
   "metadata": {},
   "source": [
    "8. seller_type \n",
    "\n",
    "\n",
    "(catorigical column)\n",
    " \n"
   ]
  },
  {
   "cell_type": "code",
   "execution_count": 78,
   "metadata": {},
   "outputs": [
    {
     "data": {
      "text/plain": [
       "Individual          6561\n",
       "Dealer              1102\n",
       "Trustmark Dealer     236\n",
       "Name: seller_type, dtype: int64"
      ]
     },
     "execution_count": 78,
     "metadata": {},
     "output_type": "execute_result"
    }
   ],
   "source": [
    "df['seller_type'].value_counts()"
   ]
  },
  {
   "cell_type": "markdown",
   "metadata": {},
   "source": [
    "Plotting \n",
    "(violionplot)--->between seller type and selling price"
   ]
  },
  {
   "cell_type": "code",
   "execution_count": 79,
   "metadata": {},
   "outputs": [
    {
     "data": {
      "text/plain": [
       "Text(0.5, 1.0, 'Individual')"
      ]
     },
     "execution_count": 79,
     "metadata": {},
     "output_type": "execute_result"
    },
    {
     "data": {
      "image/png": "[encoded data removed]",
      "text/plain": [
       "<Figure size 640x480 with 1 Axes>"
      ]
     },
     "metadata": {},
     "output_type": "display_data"
    }
   ],
   "source": [
    "# filtering\n",
    "f=df['seller_type']=='Individual'\n",
    "data = df.loc[f,'selling_price']\n",
    "plt.violinplot(data)\n",
    "plt.title('Individual')\n"
   ]
  },
  {
   "cell_type": "code",
   "execution_count": 80,
   "metadata": {},
   "outputs": [
    {
     "data": {
      "text/plain": [
       "Text(0.5, 1.0, 'Dealer')"
      ]
     },
     "execution_count": 80,
     "metadata": {},
     "output_type": "execute_result"
    },
    {
     "data": {
      "image/png": "[encoded data removed]",
      "text/plain": [
       "<Figure size 640x480 with 1 Axes>"
      ]
     },
     "metadata": {},
     "output_type": "display_data"
    }
   ],
   "source": [
    "f=df['seller_type']=='Dealer'\n",
    "data = df.loc[f,'selling_price']\n",
    "plt.violinplot(data)\n",
    "plt.title('Dealer')"
   ]
  },
  {
   "cell_type": "code",
   "execution_count": 81,
   "metadata": {},
   "outputs": [
    {
     "data": {
      "text/plain": [
       "Text(0.5, 1.0, 'Trustmark Dealer')"
      ]
     },
     "execution_count": 81,
     "metadata": {},
     "output_type": "execute_result"
    },
    {
     "data": {
      "image/png": "[encoded data removed]",
      "text/plain": [
       "<Figure size 640x480 with 1 Axes>"
      ]
     },
     "metadata": {},
     "output_type": "display_data"
    }
   ],
   "source": [
    "f=df['seller_type']=='Trustmark Dealer'\n",
    "data = df.loc[f,'selling_price']\n",
    "plt.violinplot(data)\n",
    "plt.title('Trustmark Dealer')"
   ]
  },
  {
   "cell_type": "markdown",
   "metadata": {},
   "source": [
    "all the disribution of the seller type are different. so they are non oridinal ."
   ]
  },
  {
   "cell_type": "markdown",
   "metadata": {},
   "source": [
    "8. Fuel"
   ]
  },
  {
   "cell_type": "code",
   "execution_count": 82,
   "metadata": {},
   "outputs": [
    {
     "data": {
      "text/plain": [
       "Diesel    4298\n",
       "Petrol    3514\n",
       "CNG         52\n",
       "LPG         35\n",
       "Name: fuel, dtype: int64"
      ]
     },
     "execution_count": 82,
     "metadata": {},
     "output_type": "execute_result"
    }
   ],
   "source": [
    "df['fuel'].value_counts()"
   ]
  },
  {
   "cell_type": "markdown",
   "metadata": {},
   "source": [
    "Plotting \n",
    "(violionplot)--->between fuel and selling price"
   ]
  },
  {
   "cell_type": "code",
   "execution_count": 83,
   "metadata": {},
   "outputs": [
    {
     "data": {
      "text/plain": [
       "Text(0.5, 1.0, 'Diesel')"
      ]
     },
     "execution_count": 83,
     "metadata": {},
     "output_type": "execute_result"
    },
    {
     "data": {
      "image/png": "[encoded data removed]",
      "text/plain": [
       "<Figure size 640x480 with 1 Axes>"
      ]
     },
     "metadata": {},
     "output_type": "display_data"
    }
   ],
   "source": [
    "f=df['fuel']=='Diesel'\n",
    "data = df.loc[f,'selling_price']\n",
    "plt.violinplot(data)\n",
    "plt.title('Diesel')\n"
   ]
  },
  {
   "cell_type": "code",
   "execution_count": 84,
   "metadata": {},
   "outputs": [
    {
     "data": {
      "text/plain": [
       "Text(0.5, 1.0, 'Petrol')"
      ]
     },
     "execution_count": 84,
     "metadata": {},
     "output_type": "execute_result"
    },
    {
     "data": {
      "image/png": "[encoded data removed]",
      "text/plain": [
       "<Figure size 640x480 with 1 Axes>"
      ]
     },
     "metadata": {},
     "output_type": "display_data"
    }
   ],
   "source": [
    "f=df['fuel']=='Petrol'\n",
    "data = df.loc[f,'selling_price']\n",
    "plt.violinplot(data)\n",
    "plt.title('Petrol')"
   ]
  },
  {
   "cell_type": "code",
   "execution_count": 85,
   "metadata": {},
   "outputs": [
    {
     "data": {
      "text/plain": [
       "Text(0.5, 1.0, 'CNG')"
      ]
     },
     "execution_count": 85,
     "metadata": {},
     "output_type": "execute_result"
    },
    {
     "data": {
      "image/png": "[encoded data removed]",
      "text/plain": [
       "<Figure size 640x480 with 1 Axes>"
      ]
     },
     "metadata": {},
     "output_type": "display_data"
    }
   ],
   "source": [
    "f=df['fuel']=='CNG'\n",
    "data = df.loc[f,'selling_price']\n",
    "plt.violinplot(data)\n",
    "plt.title('CNG')"
   ]
  },
  {
   "cell_type": "code",
   "execution_count": 86,
   "metadata": {},
   "outputs": [
    {
     "data": {
      "text/plain": [
       "Text(0.5, 1.0, 'LPG')"
      ]
     },
     "execution_count": 86,
     "metadata": {},
     "output_type": "execute_result"
    },
    {
     "data": {
      "image/png": "[encoded data removed]",
      "text/plain": [
       "<Figure size 640x480 with 1 Axes>"
      ]
     },
     "metadata": {},
     "output_type": "display_data"
    }
   ],
   "source": [
    "f=df['fuel']=='LPG'\n",
    "data = df.loc[f,'selling_price']\n",
    "plt.violinplot(data)\n",
    "plt.title('LPG')"
   ]
  },
  {
   "cell_type": "markdown",
   "metadata": {},
   "source": [
    "from the above graphs we have seen that  the disribution of petrol,diesel and cng,lpg are similar we can merge them "
   ]
  },
  {
   "cell_type": "code",
   "execution_count": 87,
   "metadata": {},
   "outputs": [],
   "source": [
    "df['fuel']=df['fuel'].replace({'Petrol':0,'Diesel':0,'LPG':1,'CNG':1})"
   ]
  },
  {
   "cell_type": "markdown",
   "metadata": {},
   "source": [
    "9. km driven"
   ]
  },
  {
   "cell_type": "code",
   "execution_count": 88,
   "metadata": {},
   "outputs": [
    {
     "data": {
      "image/png": "[encoded data removed]",
      "text/plain": [
       "<Figure size 640x480 with 1 Axes>"
      ]
     },
     "metadata": {},
     "output_type": "display_data"
    }
   ],
   "source": [
    "plt.hist(df['km_driven'])\n",
    "plt.show()"
   ]
  },
  {
   "cell_type": "code",
   "execution_count": 89,
   "metadata": {},
   "outputs": [
    {
     "data": {
      "image/png": "[encoded data removed]",
      "text/plain": [
       "<Figure size 640x480 with 1 Axes>"
      ]
     },
     "metadata": {},
     "output_type": "display_data"
    }
   ],
   "source": [
    "plt.scatter(df['km_driven'],df['selling_price'])\n",
    "plt.title('kmdriven vs selling_price')\n",
    "plt.xlabel('km')\n",
    "plt.ylabel('selling price')\n",
    "plt.show()"
   ]
  },
  {
   "cell_type": "markdown",
   "metadata": {},
   "source": [
    "km driven has outliers. so we will remove them.(afterwards)"
   ]
  },
  {
   "cell_type": "markdown",
   "metadata": {},
   "source": [
    "10. Name"
   ]
  },
  {
   "cell_type": "code",
   "execution_count": 90,
   "metadata": {},
   "outputs": [],
   "source": [
    "# we will take only brand name.\n",
    "def convert(x):\n",
    "    temp=x.split()\n",
    "    return temp[0]\n",
    "\n",
    "\n",
    "df['name']=df['name'].apply(convert)"
   ]
  },
  {
   "cell_type": "code",
   "execution_count": 91,
   "metadata": {},
   "outputs": [
    {
     "data": {
      "text/plain": [
       "Maruti           2366\n",
       "Hyundai          1359\n",
       "Mahindra          758\n",
       "Tata              719\n",
       "Honda             465\n",
       "Toyota            452\n",
       "Ford              388\n",
       "Chevrolet         230\n",
       "Renault           228\n",
       "Volkswagen        184\n",
       "BMW               118\n",
       "Skoda             104\n",
       "Nissan             81\n",
       "Jaguar             71\n",
       "Volvo              67\n",
       "Datsun             65\n",
       "Mercedes-Benz      54\n",
       "Fiat               41\n",
       "Audi               37\n",
       "Lexus              34\n",
       "Jeep               31\n",
       "Mitsubishi         14\n",
       "Force               6\n",
       "Land                6\n",
       "Isuzu               5\n",
       "Kia                 4\n",
       "Ambassador          4\n",
       "Daewoo              3\n",
       "MG                  3\n",
       "Ashok               1\n",
       "Opel                1\n",
       "Name: name, dtype: int64"
      ]
     },
     "execution_count": 91,
     "metadata": {},
     "output_type": "execute_result"
    }
   ],
   "source": [
    "df['name'].value_counts()"
   ]
  },
  {
   "cell_type": "code",
   "execution_count": 92,
   "metadata": {},
   "outputs": [
    {
     "data": {
      "text/plain": [
       "31"
      ]
     },
     "execution_count": 92,
     "metadata": {},
     "output_type": "execute_result"
    }
   ],
   "source": [
    "df['name'].nunique()"
   ]
  },
  {
   "cell_type": "markdown",
   "metadata": {},
   "source": [
    "so here i  will calculate the average selling price of brand."
   ]
  },
  {
   "cell_type": "code",
   "execution_count": 93,
   "metadata": {},
   "outputs": [],
   "source": [
    "avg_of_brand=df.groupby('name')['selling_price'].mean()\n",
    "avg_of_brand=avg_of_brand.sort_values(ascending=False)"
   ]
  },
  {
   "cell_type": "code",
   "execution_count": 94,
   "metadata": {},
   "outputs": [],
   "source": [
    "def changer(x):\n",
    "    if x in avg_of_brand[:10]:\n",
    "       return 0\n",
    "    elif x in avg_of_brand[10:20]:\n",
    "      return 1\n",
    "    else:\n",
    "       return 2\n",
    "df['name']=df['name'].apply(changer)"
   ]
  },
  {
   "cell_type": "code",
   "execution_count": 95,
   "metadata": {},
   "outputs": [],
   "source": [
    "# to seperate numeric and categorical columns\n",
    "numeric=df[['max_power','engine','mileage','km_driven','selling_price','year']]\n",
    "categorical = df[['name','fuel','seller_type','transmission','owner','seats']]"
   ]
  },
  {
   "cell_type": "code",
   "execution_count": 96,
   "metadata": {},
   "outputs": [
    {
     "data": {
      "text/html": [
       "<div>\n",
       "<style scoped>\n",
       "    .dataframe tbody tr th:only-of-type {\n",
       "        vertical-align: middle;\n",
       "    }\n",
       "\n",
       "    .dataframe tbody tr th {\n",
       "        vertical-align: top;\n",
       "    }\n",
       "\n",
       "    .dataframe thead th {\n",
       "        text-align: right;\n",
       "    }\n",
       "</style>\n",
       "<table border=\"1\" class=\"dataframe\">\n",
       "  <thead>\n",
       "    <tr style=\"text-align: right;\">\n",
       "      <th></th>\n",
       "      <th>max_power</th>\n",
       "      <th>engine</th>\n",
       "      <th>mileage</th>\n",
       "      <th>km_driven</th>\n",
       "      <th>selling_price</th>\n",
       "      <th>year</th>\n",
       "    </tr>\n",
       "  </thead>\n",
       "  <tbody>\n",
       "    <tr>\n",
       "      <th>max_power</th>\n",
       "      <td>1.000</td>\n",
       "      <td>0.704</td>\n",
       "      <td>-0.374</td>\n",
       "      <td>-0.037</td>\n",
       "      <td>0.750</td>\n",
       "      <td>0.225</td>\n",
       "    </tr>\n",
       "    <tr>\n",
       "      <th>engine</th>\n",
       "      <td>0.704</td>\n",
       "      <td>1.000</td>\n",
       "      <td>-0.576</td>\n",
       "      <td>0.207</td>\n",
       "      <td>0.458</td>\n",
       "      <td>0.018</td>\n",
       "    </tr>\n",
       "    <tr>\n",
       "      <th>mileage</th>\n",
       "      <td>-0.374</td>\n",
       "      <td>-0.576</td>\n",
       "      <td>1.000</td>\n",
       "      <td>-0.174</td>\n",
       "      <td>-0.125</td>\n",
       "      <td>0.329</td>\n",
       "    </tr>\n",
       "    <tr>\n",
       "      <th>km_driven</th>\n",
       "      <td>-0.037</td>\n",
       "      <td>0.207</td>\n",
       "      <td>-0.174</td>\n",
       "      <td>1.000</td>\n",
       "      <td>-0.222</td>\n",
       "      <td>-0.429</td>\n",
       "    </tr>\n",
       "    <tr>\n",
       "      <th>selling_price</th>\n",
       "      <td>0.750</td>\n",
       "      <td>0.458</td>\n",
       "      <td>-0.125</td>\n",
       "      <td>-0.222</td>\n",
       "      <td>1.000</td>\n",
       "      <td>0.412</td>\n",
       "    </tr>\n",
       "    <tr>\n",
       "      <th>year</th>\n",
       "      <td>0.225</td>\n",
       "      <td>0.018</td>\n",
       "      <td>0.329</td>\n",
       "      <td>-0.429</td>\n",
       "      <td>0.412</td>\n",
       "      <td>1.000</td>\n",
       "    </tr>\n",
       "  </tbody>\n",
       "</table>\n",
       "</div>"
      ],
      "text/plain": [
       "               max_power  engine  mileage  km_driven  selling_price   year\n",
       "max_power          1.000   0.704   -0.374     -0.037          0.750  0.225\n",
       "engine             0.704   1.000   -0.576      0.207          0.458  0.018\n",
       "mileage           -0.374  -0.576    1.000     -0.174         -0.125  0.329\n",
       "km_driven         -0.037   0.207   -0.174      1.000         -0.222 -0.429\n",
       "selling_price      0.750   0.458   -0.125     -0.222          1.000  0.412\n",
       "year               0.225   0.018    0.329     -0.429          0.412  1.000"
      ]
     },
     "execution_count": 96,
     "metadata": {},
     "output_type": "execute_result"
    }
   ],
   "source": [
    "numeric.corr()"
   ]
  },
  {
   "cell_type": "code",
   "execution_count": 97,
   "metadata": {},
   "outputs": [
    {
     "data": {
      "text/plain": [
       "<Axes: >"
      ]
     },
     "execution_count": 97,
     "metadata": {},
     "output_type": "execute_result"
    },
    {
     "data": {
      "image/png": "[encoded data removed]",
      "text/plain": [
       "<Figure size 640x480 with 2 Axes>"
      ]
     },
     "metadata": {},
     "output_type": "display_data"
    }
   ],
   "source": [
    "sns.heatmap(numeric.corr())"
   ]
  },
  {
   "cell_type": "markdown",
   "metadata": {},
   "source": [
    "# encoding for categorical column."
   ]
  },
  {
   "cell_type": "code",
   "execution_count": 98,
   "metadata": {},
   "outputs": [],
   "source": [
    "le= LabelEncoder()\n",
    "categorical['owner']=le.fit_transform(categorical['owner'])\n"
   ]
  },
  {
   "cell_type": "code",
   "execution_count": 99,
   "metadata": {},
   "outputs": [],
   "source": [
    "categorical['transmission']=le.fit_transform(categorical['transmission'])"
   ]
  },
  {
   "cell_type": "code",
   "execution_count": 100,
   "metadata": {},
   "outputs": [],
   "source": [
    "ct=ColumnTransformer(transformers=[(\"encode\",OneHotEncoder(drop=\"first\",sparse=False),[2])],remainder=\"passthrough\")\n",
    "categorical=ct.fit_transform(categorical)"
   ]
  },
  {
   "cell_type": "markdown",
   "metadata": {},
   "source": [
    "# anova test"
   ]
  },
  {
   "cell_type": "code",
   "execution_count": 101,
   "metadata": {},
   "outputs": [
    {
     "name": "stdout",
     "output_type": "stream",
     "text": [
      "f values [ 6.988322    6.69782293  8.20570901  1.66252386 12.03276301  3.40499271\n",
      "  2.66180735]\n"
     ]
    }
   ],
   "source": [
    "from sklearn.feature_selection import SelectKBest,f_classif\n",
    "\n",
    "kbest = SelectKBest(f_classif,k=categorical.shape[1])\n",
    "kbest.fit_transform(categorical,numeric['selling_price'])\n",
    "print(\"f values\",kbest.scores_)"
   ]
  },
  {
   "cell_type": "markdown",
   "metadata": {},
   "source": [
    "# outlier detection"
   ]
  },
  {
   "cell_type": "code",
   "execution_count": 102,
   "metadata": {},
   "outputs": [],
   "source": [
    "def zscore(x):\n",
    "   mean=np.mean(x)\n",
    "   std=np.std(x)\n",
    "   z=(x-mean)/std\n",
    "   z=z.abs()\n",
    "   return x[z>3]"
   ]
  },
  {
   "cell_type": "code",
   "execution_count": 103,
   "metadata": {},
   "outputs": [],
   "source": [
    "outliers1=zscore(numeric['mileage'])\n",
    "outliers2=zscore(numeric['km_driven'])\n",
    "outliers3=zscore(numeric['max_power'])"
   ]
  },
  {
   "cell_type": "code",
   "execution_count": 105,
   "metadata": {},
   "outputs": [],
   "source": [
    "# scaling (required for db scan method)\n",
    "minmax=MinMaxScaler()\n",
    "data=minmax.fit_transform(numeric[['engine','selling_price']])\n"
   ]
  },
  {
   "cell_type": "code",
   "execution_count": 106,
   "metadata": {},
   "outputs": [],
   "source": [
    "# to find k nearest neighbors\n",
    "neigh=NearestNeighbors(n_neighbors=2)\n",
    "n=neigh.fit(data)\n",
    "\n",
    "distance,index=n.kneighbors(data)\n"
   ]
  },
  {
   "cell_type": "code",
   "execution_count": 107,
   "metadata": {},
   "outputs": [],
   "source": [
    "distance=distance[:,-1]\n",
    "distance.sort()"
   ]
  },
  {
   "cell_type": "code",
   "execution_count": 108,
   "metadata": {},
   "outputs": [
    {
     "data": {
      "text/plain": [
       "[<matplotlib.lines.Line2D at 0x1a18875d000>]"
      ]
     },
     "execution_count": 108,
     "metadata": {},
     "output_type": "execute_result"
    },
    {
     "data": {
      "image/png": "[encoded data removed]",
      "text/plain": [
       "<Figure size 640x480 with 1 Axes>"
      ]
     },
     "metadata": {},
     "output_type": "display_data"
    }
   ],
   "source": [
    "plt.plot(distance)"
   ]
  },
  {
   "cell_type": "markdown",
   "metadata": {},
   "source": [
    "# dbscan \n",
    "\n",
    "to detect outliers."
   ]
  },
  {
   "cell_type": "code",
   "execution_count": 109,
   "metadata": {},
   "outputs": [
    {
     "data": {
      "text/html": [
       "<style>#sk-container-id-1 {color: black;background-color: white;}#sk-container-id-1 pre{padding: 0;}#sk-container-id-1 div.sk-toggleable {background-color: white;}#sk-container-id-1 label.sk-toggleable__label {cursor: pointer;display: block;width: 100%;margin-bottom: 0;padding: 0.3em;box-sizing: border-box;text-align: center;}#sk-container-id-1 label.sk-toggleable__label-arrow:before {content: \"▸\";float: left;margin-right: 0.25em;color: #696969;}#sk-container-id-1 label.sk-toggleable__label-arrow:hover:before {color: black;}#sk-container-id-1 div.sk-estimator:hover label.sk-toggleable__label-arrow:before {color: black;}#sk-container-id-1 div.sk-toggleable__content {max-height: 0;max-width: 0;overflow: hidden;text-align: left;background-color: #f0f8ff;}#sk-container-id-1 div.sk-toggleable__content pre {margin: 0.2em;color: black;border-radius: 0.25em;background-color: #f0f8ff;}#sk-container-id-1 input.sk-toggleable__control:checked~div.sk-toggleable__content {max-height: 200px;max-width: 100%;overflow: auto;}#sk-container-id-1 input.sk-toggleable__control:checked~label.sk-toggleable__label-arrow:before {content: \"▾\";}#sk-container-id-1 div.sk-estimator input.sk-toggleable__control:checked~label.sk-toggleable__label {background-color: #d4ebff;}#sk-container-id-1 div.sk-label input.sk-toggleable__control:checked~label.sk-toggleable__label {background-color: #d4ebff;}#sk-container-id-1 input.sk-hidden--visually {border: 0;clip: rect(1px 1px 1px 1px);clip: rect(1px, 1px, 1px, 1px);height: 1px;margin: -1px;overflow: hidden;padding: 0;position: absolute;width: 1px;}#sk-container-id-1 div.sk-estimator {font-family: monospace;background-color: #f0f8ff;border: 1px dotted black;border-radius: 0.25em;box-sizing: border-box;margin-bottom: 0.5em;}#sk-container-id-1 div.sk-estimator:hover {background-color: #d4ebff;}#sk-container-id-1 div.sk-parallel-item::after {content: \"\";width: 100%;border-bottom: 1px solid gray;flex-grow: 1;}#sk-container-id-1 div.sk-label:hover label.sk-toggleable__label {background-color: #d4ebff;}#sk-container-id-1 div.sk-serial::before {content: \"\";position: absolute;border-left: 1px solid gray;box-sizing: border-box;top: 0;bottom: 0;left: 50%;z-index: 0;}#sk-container-id-1 div.sk-serial {display: flex;flex-direction: column;align-items: center;background-color: white;padding-right: 0.2em;padding-left: 0.2em;position: relative;}#sk-container-id-1 div.sk-item {position: relative;z-index: 1;}#sk-container-id-1 div.sk-parallel {display: flex;align-items: stretch;justify-content: center;background-color: white;position: relative;}#sk-container-id-1 div.sk-item::before, #sk-container-id-1 div.sk-parallel-item::before {content: \"\";position: absolute;border-left: 1px solid gray;box-sizing: border-box;top: 0;bottom: 0;left: 50%;z-index: -1;}#sk-container-id-1 div.sk-parallel-item {display: flex;flex-direction: column;z-index: 1;position: relative;background-color: white;}#sk-container-id-1 div.sk-parallel-item:first-child::after {align-self: flex-end;width: 50%;}#sk-container-id-1 div.sk-parallel-item:last-child::after {align-self: flex-start;width: 50%;}#sk-container-id-1 div.sk-parallel-item:only-child::after {width: 0;}#sk-container-id-1 div.sk-dashed-wrapped {border: 1px dashed gray;margin: 0 0.4em 0.5em 0.4em;box-sizing: border-box;padding-bottom: 0.4em;background-color: white;}#sk-container-id-1 div.sk-label label {font-family: monospace;font-weight: bold;display: inline-block;line-height: 1.2em;}#sk-container-id-1 div.sk-label-container {text-align: center;}#sk-container-id-1 div.sk-container {/* jupyter's `normalize.less` sets `[hidden] { display: none; }` but bootstrap.min.css set `[hidden] { display: none !important; }` so we also need the `!important` here to be able to override the default hidden behavior on the sphinx rendered scikit-learn.org. See: https://github.com/scikit-learn/scikit-learn/issues/21755 */display: inline-block !important;position: relative;}#sk-container-id-1 div.sk-text-repr-fallback {display: none;}</style><div id=\"sk-container-id-1\" class=\"sk-top-container\"><div class=\"sk-text-repr-fallback\"><pre>DBSCAN(eps=0.04, min_samples=2)</pre><b>In a Jupyter environment, please rerun this cell to show the HTML representation or trust the notebook. <br />On GitHub, the HTML representation is unable to render, please try loading this page with nbviewer.org.</b></div><div class=\"sk-container\" hidden><div class=\"sk-item\"><div class=\"sk-estimator sk-toggleable\"><input class=\"sk-toggleable__control sk-hidden--visually\" id=\"sk-estimator-id-1\" type=\"checkbox\" checked><label for=\"sk-estimator-id-1\" class=\"sk-toggleable__label sk-toggleable__label-arrow\">DBSCAN</label><div class=\"sk-toggleable__content\"><pre>DBSCAN(eps=0.04, min_samples=2)</pre></div></div></div></div></div>"
      ],
      "text/plain": [
       "DBSCAN(eps=0.04, min_samples=2)"
      ]
     },
     "execution_count": 109,
     "metadata": {},
     "output_type": "execute_result"
    }
   ],
   "source": [
    "from sklearn.cluster import DBSCAN\n",
    "\n",
    "model = DBSCAN(eps=0.04,min_samples=2)\n",
    "model.fit(data)"
   ]
  },
  {
   "cell_type": "code",
   "execution_count": 114,
   "metadata": {},
   "outputs": [],
   "source": [
    "# if label=-1 then it is outlier.\n",
    "labels=model.labels_"
   ]
  },
  {
   "cell_type": "code",
   "execution_count": 117,
   "metadata": {},
   "outputs": [],
   "source": [
    "# identify the outliers\n",
    "outliers=pd.DataFrame(data[labels==-1])\n",
    "outliers4=outliers[0]\n",
    "outliers5=outliers[1]"
   ]
  },
  {
   "cell_type": "code",
   "execution_count": 118,
   "metadata": {},
   "outputs": [],
   "source": [
    "#dropping the outliers \n",
    "numeric=numeric[~numeric['mileage'].isin(outliers1)]\n",
    "numeric=numeric[~numeric['km_driven'].isin(outliers2)]\n",
    "numeric=numeric[~numeric['max_power'].isin(outliers3)]\n",
    "numeric=numeric[~numeric['engine'].isin(outliers4)]\n",
    "numeric=numeric[~numeric['selling_price'].isin(outliers5)]\n"
   ]
  },
  {
   "cell_type": "markdown",
   "metadata": {},
   "source": [
    "# dropping the outliers rows in categorical columns"
   ]
  },
  {
   "cell_type": "code",
   "execution_count": 119,
   "metadata": {},
   "outputs": [
    {
     "data": {
      "text/html": [
       "<div>\n",
       "<style scoped>\n",
       "    .dataframe tbody tr th:only-of-type {\n",
       "        vertical-align: middle;\n",
       "    }\n",
       "\n",
       "    .dataframe tbody tr th {\n",
       "        vertical-align: top;\n",
       "    }\n",
       "\n",
       "    .dataframe thead th {\n",
       "        text-align: right;\n",
       "    }\n",
       "</style>\n",
       "<table border=\"1\" class=\"dataframe\">\n",
       "  <thead>\n",
       "    <tr style=\"text-align: right;\">\n",
       "      <th></th>\n",
       "      <th>seller_type</th>\n",
       "      <th>fuel</th>\n",
       "      <th>name</th>\n",
       "      <th>seller_type1</th>\n",
       "      <th>transmission</th>\n",
       "      <th>owner</th>\n",
       "      <th>seats</th>\n",
       "    </tr>\n",
       "  </thead>\n",
       "  <tbody>\n",
       "    <tr>\n",
       "      <th>0</th>\n",
       "      <td>1.000</td>\n",
       "      <td>0.000</td>\n",
       "      <td>2.000</td>\n",
       "      <td>0.000</td>\n",
       "      <td>1.000</td>\n",
       "      <td>0.000</td>\n",
       "      <td>5.000</td>\n",
       "    </tr>\n",
       "    <tr>\n",
       "      <th>1</th>\n",
       "      <td>1.000</td>\n",
       "      <td>0.000</td>\n",
       "      <td>1.000</td>\n",
       "      <td>0.000</td>\n",
       "      <td>1.000</td>\n",
       "      <td>2.000</td>\n",
       "      <td>5.000</td>\n",
       "    </tr>\n",
       "    <tr>\n",
       "      <th>2</th>\n",
       "      <td>1.000</td>\n",
       "      <td>0.000</td>\n",
       "      <td>1.000</td>\n",
       "      <td>0.000</td>\n",
       "      <td>1.000</td>\n",
       "      <td>3.000</td>\n",
       "      <td>5.000</td>\n",
       "    </tr>\n",
       "    <tr>\n",
       "      <th>3</th>\n",
       "      <td>1.000</td>\n",
       "      <td>0.000</td>\n",
       "      <td>1.000</td>\n",
       "      <td>0.000</td>\n",
       "      <td>1.000</td>\n",
       "      <td>0.000</td>\n",
       "      <td>5.000</td>\n",
       "    </tr>\n",
       "    <tr>\n",
       "      <th>4</th>\n",
       "      <td>1.000</td>\n",
       "      <td>0.000</td>\n",
       "      <td>2.000</td>\n",
       "      <td>0.000</td>\n",
       "      <td>1.000</td>\n",
       "      <td>0.000</td>\n",
       "      <td>5.000</td>\n",
       "    </tr>\n",
       "    <tr>\n",
       "      <th>...</th>\n",
       "      <td>...</td>\n",
       "      <td>...</td>\n",
       "      <td>...</td>\n",
       "      <td>...</td>\n",
       "      <td>...</td>\n",
       "      <td>...</td>\n",
       "      <td>...</td>\n",
       "    </tr>\n",
       "    <tr>\n",
       "      <th>7894</th>\n",
       "      <td>1.000</td>\n",
       "      <td>0.000</td>\n",
       "      <td>1.000</td>\n",
       "      <td>0.000</td>\n",
       "      <td>1.000</td>\n",
       "      <td>0.000</td>\n",
       "      <td>5.000</td>\n",
       "    </tr>\n",
       "    <tr>\n",
       "      <th>7895</th>\n",
       "      <td>1.000</td>\n",
       "      <td>0.000</td>\n",
       "      <td>1.000</td>\n",
       "      <td>0.000</td>\n",
       "      <td>1.000</td>\n",
       "      <td>1.000</td>\n",
       "      <td>5.000</td>\n",
       "    </tr>\n",
       "    <tr>\n",
       "      <th>7896</th>\n",
       "      <td>1.000</td>\n",
       "      <td>0.000</td>\n",
       "      <td>2.000</td>\n",
       "      <td>0.000</td>\n",
       "      <td>1.000</td>\n",
       "      <td>0.000</td>\n",
       "      <td>5.000</td>\n",
       "    </tr>\n",
       "    <tr>\n",
       "      <th>7897</th>\n",
       "      <td>1.000</td>\n",
       "      <td>0.000</td>\n",
       "      <td>2.000</td>\n",
       "      <td>0.000</td>\n",
       "      <td>1.000</td>\n",
       "      <td>0.000</td>\n",
       "      <td>5.000</td>\n",
       "    </tr>\n",
       "    <tr>\n",
       "      <th>7898</th>\n",
       "      <td>1.000</td>\n",
       "      <td>0.000</td>\n",
       "      <td>2.000</td>\n",
       "      <td>0.000</td>\n",
       "      <td>1.000</td>\n",
       "      <td>0.000</td>\n",
       "      <td>5.000</td>\n",
       "    </tr>\n",
       "  </tbody>\n",
       "</table>\n",
       "<p>7899 rows × 7 columns</p>\n",
       "</div>"
      ],
      "text/plain": [
       "      seller_type  fuel  name  seller_type1  transmission  owner  seats\n",
       "0           1.000 0.000 2.000         0.000         1.000  0.000  5.000\n",
       "1           1.000 0.000 1.000         0.000         1.000  2.000  5.000\n",
       "2           1.000 0.000 1.000         0.000         1.000  3.000  5.000\n",
       "3           1.000 0.000 1.000         0.000         1.000  0.000  5.000\n",
       "4           1.000 0.000 2.000         0.000         1.000  0.000  5.000\n",
       "...           ...   ...   ...           ...           ...    ...    ...\n",
       "7894        1.000 0.000 1.000         0.000         1.000  0.000  5.000\n",
       "7895        1.000 0.000 1.000         0.000         1.000  1.000  5.000\n",
       "7896        1.000 0.000 2.000         0.000         1.000  0.000  5.000\n",
       "7897        1.000 0.000 2.000         0.000         1.000  0.000  5.000\n",
       "7898        1.000 0.000 2.000         0.000         1.000  0.000  5.000\n",
       "\n",
       "[7899 rows x 7 columns]"
      ]
     },
     "execution_count": 119,
     "metadata": {},
     "output_type": "execute_result"
    }
   ],
   "source": [
    "categorical=pd.DataFrame(data=categorical,columns=(['seller_type','fuel','name','seller_type1','transmission','owner','seats']))\n",
    "categorical"
   ]
  },
  {
   "cell_type": "code",
   "execution_count": 120,
   "metadata": {},
   "outputs": [],
   "source": [
    "categorical=categorical[categorical.index.isin(numeric.index)]\n"
   ]
  },
  {
   "cell_type": "code",
   "execution_count": 121,
   "metadata": {},
   "outputs": [
    {
     "data": {
      "text/html": [
       "<div>\n",
       "<style scoped>\n",
       "    .dataframe tbody tr th:only-of-type {\n",
       "        vertical-align: middle;\n",
       "    }\n",
       "\n",
       "    .dataframe tbody tr th {\n",
       "        vertical-align: top;\n",
       "    }\n",
       "\n",
       "    .dataframe thead th {\n",
       "        text-align: right;\n",
       "    }\n",
       "</style>\n",
       "<table border=\"1\" class=\"dataframe\">\n",
       "  <thead>\n",
       "    <tr style=\"text-align: right;\">\n",
       "      <th></th>\n",
       "      <th>seller_type</th>\n",
       "      <th>fuel</th>\n",
       "      <th>name</th>\n",
       "      <th>seller_type1</th>\n",
       "      <th>transmission</th>\n",
       "      <th>owner</th>\n",
       "      <th>seats</th>\n",
       "    </tr>\n",
       "  </thead>\n",
       "  <tbody>\n",
       "    <tr>\n",
       "      <th>0</th>\n",
       "      <td>1.000</td>\n",
       "      <td>0.000</td>\n",
       "      <td>2.000</td>\n",
       "      <td>0.000</td>\n",
       "      <td>1.000</td>\n",
       "      <td>0.000</td>\n",
       "      <td>5.000</td>\n",
       "    </tr>\n",
       "    <tr>\n",
       "      <th>1</th>\n",
       "      <td>1.000</td>\n",
       "      <td>0.000</td>\n",
       "      <td>1.000</td>\n",
       "      <td>0.000</td>\n",
       "      <td>1.000</td>\n",
       "      <td>2.000</td>\n",
       "      <td>5.000</td>\n",
       "    </tr>\n",
       "    <tr>\n",
       "      <th>2</th>\n",
       "      <td>1.000</td>\n",
       "      <td>0.000</td>\n",
       "      <td>1.000</td>\n",
       "      <td>0.000</td>\n",
       "      <td>1.000</td>\n",
       "      <td>3.000</td>\n",
       "      <td>5.000</td>\n",
       "    </tr>\n",
       "    <tr>\n",
       "      <th>3</th>\n",
       "      <td>1.000</td>\n",
       "      <td>0.000</td>\n",
       "      <td>1.000</td>\n",
       "      <td>0.000</td>\n",
       "      <td>1.000</td>\n",
       "      <td>0.000</td>\n",
       "      <td>5.000</td>\n",
       "    </tr>\n",
       "    <tr>\n",
       "      <th>4</th>\n",
       "      <td>1.000</td>\n",
       "      <td>0.000</td>\n",
       "      <td>2.000</td>\n",
       "      <td>0.000</td>\n",
       "      <td>1.000</td>\n",
       "      <td>0.000</td>\n",
       "      <td>5.000</td>\n",
       "    </tr>\n",
       "    <tr>\n",
       "      <th>...</th>\n",
       "      <td>...</td>\n",
       "      <td>...</td>\n",
       "      <td>...</td>\n",
       "      <td>...</td>\n",
       "      <td>...</td>\n",
       "      <td>...</td>\n",
       "      <td>...</td>\n",
       "    </tr>\n",
       "    <tr>\n",
       "      <th>7894</th>\n",
       "      <td>1.000</td>\n",
       "      <td>0.000</td>\n",
       "      <td>1.000</td>\n",
       "      <td>0.000</td>\n",
       "      <td>1.000</td>\n",
       "      <td>0.000</td>\n",
       "      <td>5.000</td>\n",
       "    </tr>\n",
       "    <tr>\n",
       "      <th>7895</th>\n",
       "      <td>1.000</td>\n",
       "      <td>0.000</td>\n",
       "      <td>1.000</td>\n",
       "      <td>0.000</td>\n",
       "      <td>1.000</td>\n",
       "      <td>1.000</td>\n",
       "      <td>5.000</td>\n",
       "    </tr>\n",
       "    <tr>\n",
       "      <th>7896</th>\n",
       "      <td>1.000</td>\n",
       "      <td>0.000</td>\n",
       "      <td>2.000</td>\n",
       "      <td>0.000</td>\n",
       "      <td>1.000</td>\n",
       "      <td>0.000</td>\n",
       "      <td>5.000</td>\n",
       "    </tr>\n",
       "    <tr>\n",
       "      <th>7897</th>\n",
       "      <td>1.000</td>\n",
       "      <td>0.000</td>\n",
       "      <td>2.000</td>\n",
       "      <td>0.000</td>\n",
       "      <td>1.000</td>\n",
       "      <td>0.000</td>\n",
       "      <td>5.000</td>\n",
       "    </tr>\n",
       "    <tr>\n",
       "      <th>7898</th>\n",
       "      <td>1.000</td>\n",
       "      <td>0.000</td>\n",
       "      <td>2.000</td>\n",
       "      <td>0.000</td>\n",
       "      <td>1.000</td>\n",
       "      <td>0.000</td>\n",
       "      <td>5.000</td>\n",
       "    </tr>\n",
       "  </tbody>\n",
       "</table>\n",
       "<p>7716 rows × 7 columns</p>\n",
       "</div>"
      ],
      "text/plain": [
       "      seller_type  fuel  name  seller_type1  transmission  owner  seats\n",
       "0           1.000 0.000 2.000         0.000         1.000  0.000  5.000\n",
       "1           1.000 0.000 1.000         0.000         1.000  2.000  5.000\n",
       "2           1.000 0.000 1.000         0.000         1.000  3.000  5.000\n",
       "3           1.000 0.000 1.000         0.000         1.000  0.000  5.000\n",
       "4           1.000 0.000 2.000         0.000         1.000  0.000  5.000\n",
       "...           ...   ...   ...           ...           ...    ...    ...\n",
       "7894        1.000 0.000 1.000         0.000         1.000  0.000  5.000\n",
       "7895        1.000 0.000 1.000         0.000         1.000  1.000  5.000\n",
       "7896        1.000 0.000 2.000         0.000         1.000  0.000  5.000\n",
       "7897        1.000 0.000 2.000         0.000         1.000  0.000  5.000\n",
       "7898        1.000 0.000 2.000         0.000         1.000  0.000  5.000\n",
       "\n",
       "[7716 rows x 7 columns]"
      ]
     },
     "execution_count": 121,
     "metadata": {},
     "output_type": "execute_result"
    }
   ],
   "source": [
    "categorical"
   ]
  },
  {
   "cell_type": "code",
   "execution_count": 122,
   "metadata": {},
   "outputs": [],
   "source": [
    "data=pd.concat([categorical,numeric],axis=1,join=\"inner\")"
   ]
  },
  {
   "cell_type": "code",
   "execution_count": 123,
   "metadata": {},
   "outputs": [
    {
     "data": {
      "text/html": [
       "<div>\n",
       "<style scoped>\n",
       "    .dataframe tbody tr th:only-of-type {\n",
       "        vertical-align: middle;\n",
       "    }\n",
       "\n",
       "    .dataframe tbody tr th {\n",
       "        vertical-align: top;\n",
       "    }\n",
       "\n",
       "    .dataframe thead th {\n",
       "        text-align: right;\n",
       "    }\n",
       "</style>\n",
       "<table border=\"1\" class=\"dataframe\">\n",
       "  <thead>\n",
       "    <tr style=\"text-align: right;\">\n",
       "      <th></th>\n",
       "      <th>seller_type</th>\n",
       "      <th>fuel</th>\n",
       "      <th>name</th>\n",
       "      <th>seller_type1</th>\n",
       "      <th>transmission</th>\n",
       "      <th>owner</th>\n",
       "      <th>seats</th>\n",
       "      <th>max_power</th>\n",
       "      <th>engine</th>\n",
       "      <th>mileage</th>\n",
       "      <th>km_driven</th>\n",
       "      <th>selling_price</th>\n",
       "      <th>year</th>\n",
       "    </tr>\n",
       "  </thead>\n",
       "  <tbody>\n",
       "    <tr>\n",
       "      <th>0</th>\n",
       "      <td>1.000</td>\n",
       "      <td>0.000</td>\n",
       "      <td>2.000</td>\n",
       "      <td>0.000</td>\n",
       "      <td>1.000</td>\n",
       "      <td>0.000</td>\n",
       "      <td>5.000</td>\n",
       "      <td>74.000</td>\n",
       "      <td>1248.000</td>\n",
       "      <td>23.400</td>\n",
       "      <td>145500</td>\n",
       "      <td>450000</td>\n",
       "      <td>2014</td>\n",
       "    </tr>\n",
       "    <tr>\n",
       "      <th>1</th>\n",
       "      <td>1.000</td>\n",
       "      <td>0.000</td>\n",
       "      <td>1.000</td>\n",
       "      <td>0.000</td>\n",
       "      <td>1.000</td>\n",
       "      <td>2.000</td>\n",
       "      <td>5.000</td>\n",
       "      <td>103.520</td>\n",
       "      <td>1498.000</td>\n",
       "      <td>21.140</td>\n",
       "      <td>120000</td>\n",
       "      <td>370000</td>\n",
       "      <td>2014</td>\n",
       "    </tr>\n",
       "    <tr>\n",
       "      <th>2</th>\n",
       "      <td>1.000</td>\n",
       "      <td>0.000</td>\n",
       "      <td>1.000</td>\n",
       "      <td>0.000</td>\n",
       "      <td>1.000</td>\n",
       "      <td>3.000</td>\n",
       "      <td>5.000</td>\n",
       "      <td>78.000</td>\n",
       "      <td>1497.000</td>\n",
       "      <td>17.700</td>\n",
       "      <td>140000</td>\n",
       "      <td>158000</td>\n",
       "      <td>2006</td>\n",
       "    </tr>\n",
       "    <tr>\n",
       "      <th>3</th>\n",
       "      <td>1.000</td>\n",
       "      <td>0.000</td>\n",
       "      <td>1.000</td>\n",
       "      <td>0.000</td>\n",
       "      <td>1.000</td>\n",
       "      <td>0.000</td>\n",
       "      <td>5.000</td>\n",
       "      <td>90.000</td>\n",
       "      <td>1396.000</td>\n",
       "      <td>23.000</td>\n",
       "      <td>127000</td>\n",
       "      <td>225000</td>\n",
       "      <td>2010</td>\n",
       "    </tr>\n",
       "    <tr>\n",
       "      <th>4</th>\n",
       "      <td>1.000</td>\n",
       "      <td>0.000</td>\n",
       "      <td>2.000</td>\n",
       "      <td>0.000</td>\n",
       "      <td>1.000</td>\n",
       "      <td>0.000</td>\n",
       "      <td>5.000</td>\n",
       "      <td>88.200</td>\n",
       "      <td>1298.000</td>\n",
       "      <td>16.100</td>\n",
       "      <td>120000</td>\n",
       "      <td>130000</td>\n",
       "      <td>2007</td>\n",
       "    </tr>\n",
       "    <tr>\n",
       "      <th>...</th>\n",
       "      <td>...</td>\n",
       "      <td>...</td>\n",
       "      <td>...</td>\n",
       "      <td>...</td>\n",
       "      <td>...</td>\n",
       "      <td>...</td>\n",
       "      <td>...</td>\n",
       "      <td>...</td>\n",
       "      <td>...</td>\n",
       "      <td>...</td>\n",
       "      <td>...</td>\n",
       "      <td>...</td>\n",
       "      <td>...</td>\n",
       "    </tr>\n",
       "    <tr>\n",
       "      <th>7894</th>\n",
       "      <td>1.000</td>\n",
       "      <td>0.000</td>\n",
       "      <td>1.000</td>\n",
       "      <td>0.000</td>\n",
       "      <td>1.000</td>\n",
       "      <td>0.000</td>\n",
       "      <td>5.000</td>\n",
       "      <td>82.850</td>\n",
       "      <td>1197.000</td>\n",
       "      <td>18.500</td>\n",
       "      <td>110000</td>\n",
       "      <td>320000</td>\n",
       "      <td>2013</td>\n",
       "    </tr>\n",
       "    <tr>\n",
       "      <th>7895</th>\n",
       "      <td>1.000</td>\n",
       "      <td>0.000</td>\n",
       "      <td>1.000</td>\n",
       "      <td>0.000</td>\n",
       "      <td>1.000</td>\n",
       "      <td>1.000</td>\n",
       "      <td>5.000</td>\n",
       "      <td>110.000</td>\n",
       "      <td>1493.000</td>\n",
       "      <td>16.800</td>\n",
       "      <td>119000</td>\n",
       "      <td>135000</td>\n",
       "      <td>2007</td>\n",
       "    </tr>\n",
       "    <tr>\n",
       "      <th>7896</th>\n",
       "      <td>1.000</td>\n",
       "      <td>0.000</td>\n",
       "      <td>2.000</td>\n",
       "      <td>0.000</td>\n",
       "      <td>1.000</td>\n",
       "      <td>0.000</td>\n",
       "      <td>5.000</td>\n",
       "      <td>73.900</td>\n",
       "      <td>1248.000</td>\n",
       "      <td>19.300</td>\n",
       "      <td>120000</td>\n",
       "      <td>382000</td>\n",
       "      <td>2009</td>\n",
       "    </tr>\n",
       "    <tr>\n",
       "      <th>7897</th>\n",
       "      <td>1.000</td>\n",
       "      <td>0.000</td>\n",
       "      <td>2.000</td>\n",
       "      <td>0.000</td>\n",
       "      <td>1.000</td>\n",
       "      <td>0.000</td>\n",
       "      <td>5.000</td>\n",
       "      <td>70.000</td>\n",
       "      <td>1396.000</td>\n",
       "      <td>23.570</td>\n",
       "      <td>25000</td>\n",
       "      <td>290000</td>\n",
       "      <td>2013</td>\n",
       "    </tr>\n",
       "    <tr>\n",
       "      <th>7898</th>\n",
       "      <td>1.000</td>\n",
       "      <td>0.000</td>\n",
       "      <td>2.000</td>\n",
       "      <td>0.000</td>\n",
       "      <td>1.000</td>\n",
       "      <td>0.000</td>\n",
       "      <td>5.000</td>\n",
       "      <td>70.000</td>\n",
       "      <td>1396.000</td>\n",
       "      <td>23.570</td>\n",
       "      <td>25000</td>\n",
       "      <td>290000</td>\n",
       "      <td>2013</td>\n",
       "    </tr>\n",
       "  </tbody>\n",
       "</table>\n",
       "<p>7716 rows × 13 columns</p>\n",
       "</div>"
      ],
      "text/plain": [
       "      seller_type  fuel  name  seller_type1  transmission  owner  seats  \\\n",
       "0           1.000 0.000 2.000         0.000         1.000  0.000  5.000   \n",
       "1           1.000 0.000 1.000         0.000         1.000  2.000  5.000   \n",
       "2           1.000 0.000 1.000         0.000         1.000  3.000  5.000   \n",
       "3           1.000 0.000 1.000         0.000         1.000  0.000  5.000   \n",
       "4           1.000 0.000 2.000         0.000         1.000  0.000  5.000   \n",
       "...           ...   ...   ...           ...           ...    ...    ...   \n",
       "7894        1.000 0.000 1.000         0.000         1.000  0.000  5.000   \n",
       "7895        1.000 0.000 1.000         0.000         1.000  1.000  5.000   \n",
       "7896        1.000 0.000 2.000         0.000         1.000  0.000  5.000   \n",
       "7897        1.000 0.000 2.000         0.000         1.000  0.000  5.000   \n",
       "7898        1.000 0.000 2.000         0.000         1.000  0.000  5.000   \n",
       "\n",
       "      max_power   engine  mileage  km_driven  selling_price  year  \n",
       "0        74.000 1248.000   23.400     145500         450000  2014  \n",
       "1       103.520 1498.000   21.140     120000         370000  2014  \n",
       "2        78.000 1497.000   17.700     140000         158000  2006  \n",
       "3        90.000 1396.000   23.000     127000         225000  2010  \n",
       "4        88.200 1298.000   16.100     120000         130000  2007  \n",
       "...         ...      ...      ...        ...            ...   ...  \n",
       "7894     82.850 1197.000   18.500     110000         320000  2013  \n",
       "7895    110.000 1493.000   16.800     119000         135000  2007  \n",
       "7896     73.900 1248.000   19.300     120000         382000  2009  \n",
       "7897     70.000 1396.000   23.570      25000         290000  2013  \n",
       "7898     70.000 1396.000   23.570      25000         290000  2013  \n",
       "\n",
       "[7716 rows x 13 columns]"
      ]
     },
     "execution_count": 123,
     "metadata": {},
     "output_type": "execute_result"
    }
   ],
   "source": [
    "data"
   ]
  },
  {
   "cell_type": "code",
   "execution_count": 124,
   "metadata": {},
   "outputs": [],
   "source": [
    "x=data[['seller_type', 'fuel', 'name', 'seller_type1', 'transmission', 'owner',\n",
    "       'seats','max_power','engine','mileage','km_driven','year']]\n",
    "y=data['selling_price']\n",
    "\n"
   ]
  },
  {
   "cell_type": "code",
   "execution_count": 125,
   "metadata": {},
   "outputs": [
    {
     "data": {
      "text/html": [
       "<div>\n",
       "<style scoped>\n",
       "    .dataframe tbody tr th:only-of-type {\n",
       "        vertical-align: middle;\n",
       "    }\n",
       "\n",
       "    .dataframe tbody tr th {\n",
       "        vertical-align: top;\n",
       "    }\n",
       "\n",
       "    .dataframe thead th {\n",
       "        text-align: right;\n",
       "    }\n",
       "</style>\n",
       "<table border=\"1\" class=\"dataframe\">\n",
       "  <thead>\n",
       "    <tr style=\"text-align: right;\">\n",
       "      <th></th>\n",
       "      <th>seller_type</th>\n",
       "      <th>fuel</th>\n",
       "      <th>name</th>\n",
       "      <th>seller_type1</th>\n",
       "      <th>transmission</th>\n",
       "      <th>owner</th>\n",
       "      <th>seats</th>\n",
       "      <th>max_power</th>\n",
       "      <th>engine</th>\n",
       "      <th>mileage</th>\n",
       "      <th>km_driven</th>\n",
       "      <th>year</th>\n",
       "    </tr>\n",
       "  </thead>\n",
       "  <tbody>\n",
       "    <tr>\n",
       "      <th>0</th>\n",
       "      <td>0.447</td>\n",
       "      <td>-0.178</td>\n",
       "      <td>0.974</td>\n",
       "      <td>-0.102</td>\n",
       "      <td>0.373</td>\n",
       "      <td>-0.691</td>\n",
       "      <td>-0.433</td>\n",
       "      <td>-0.492</td>\n",
       "      <td>-0.395</td>\n",
       "      <td>1.002</td>\n",
       "      <td>1.836</td>\n",
       "      <td>0.001</td>\n",
       "    </tr>\n",
       "    <tr>\n",
       "      <th>1</th>\n",
       "      <td>0.447</td>\n",
       "      <td>-0.178</td>\n",
       "      <td>-0.760</td>\n",
       "      <td>-0.102</td>\n",
       "      <td>0.373</td>\n",
       "      <td>1.221</td>\n",
       "      <td>-0.433</td>\n",
       "      <td>0.424</td>\n",
       "      <td>0.127</td>\n",
       "      <td>0.417</td>\n",
       "      <td>1.239</td>\n",
       "      <td>0.001</td>\n",
       "    </tr>\n",
       "    <tr>\n",
       "      <th>2</th>\n",
       "      <td>0.447</td>\n",
       "      <td>-0.178</td>\n",
       "      <td>-0.760</td>\n",
       "      <td>-0.102</td>\n",
       "      <td>0.373</td>\n",
       "      <td>2.176</td>\n",
       "      <td>-0.433</td>\n",
       "      <td>-0.368</td>\n",
       "      <td>0.124</td>\n",
       "      <td>-0.472</td>\n",
       "      <td>1.707</td>\n",
       "      <td>-2.079</td>\n",
       "    </tr>\n",
       "    <tr>\n",
       "      <th>3</th>\n",
       "      <td>0.447</td>\n",
       "      <td>-0.178</td>\n",
       "      <td>-0.760</td>\n",
       "      <td>-0.102</td>\n",
       "      <td>0.373</td>\n",
       "      <td>-0.691</td>\n",
       "      <td>-0.433</td>\n",
       "      <td>0.005</td>\n",
       "      <td>-0.086</td>\n",
       "      <td>0.898</td>\n",
       "      <td>1.403</td>\n",
       "      <td>-1.039</td>\n",
       "    </tr>\n",
       "    <tr>\n",
       "      <th>4</th>\n",
       "      <td>0.447</td>\n",
       "      <td>-0.178</td>\n",
       "      <td>0.974</td>\n",
       "      <td>-0.102</td>\n",
       "      <td>0.373</td>\n",
       "      <td>-0.691</td>\n",
       "      <td>-0.433</td>\n",
       "      <td>-0.051</td>\n",
       "      <td>-0.290</td>\n",
       "      <td>-0.886</td>\n",
       "      <td>1.239</td>\n",
       "      <td>-1.819</td>\n",
       "    </tr>\n",
       "    <tr>\n",
       "      <th>...</th>\n",
       "      <td>...</td>\n",
       "      <td>...</td>\n",
       "      <td>...</td>\n",
       "      <td>...</td>\n",
       "      <td>...</td>\n",
       "      <td>...</td>\n",
       "      <td>...</td>\n",
       "      <td>...</td>\n",
       "      <td>...</td>\n",
       "      <td>...</td>\n",
       "      <td>...</td>\n",
       "      <td>...</td>\n",
       "    </tr>\n",
       "    <tr>\n",
       "      <th>7711</th>\n",
       "      <td>0.447</td>\n",
       "      <td>-0.178</td>\n",
       "      <td>-0.760</td>\n",
       "      <td>-0.102</td>\n",
       "      <td>0.373</td>\n",
       "      <td>-0.691</td>\n",
       "      <td>-0.433</td>\n",
       "      <td>-0.217</td>\n",
       "      <td>-0.501</td>\n",
       "      <td>-0.265</td>\n",
       "      <td>1.005</td>\n",
       "      <td>-0.259</td>\n",
       "    </tr>\n",
       "    <tr>\n",
       "      <th>7712</th>\n",
       "      <td>0.447</td>\n",
       "      <td>-0.178</td>\n",
       "      <td>-0.760</td>\n",
       "      <td>-0.102</td>\n",
       "      <td>0.373</td>\n",
       "      <td>0.265</td>\n",
       "      <td>-0.433</td>\n",
       "      <td>0.625</td>\n",
       "      <td>0.116</td>\n",
       "      <td>-0.705</td>\n",
       "      <td>1.215</td>\n",
       "      <td>-1.819</td>\n",
       "    </tr>\n",
       "    <tr>\n",
       "      <th>7713</th>\n",
       "      <td>0.447</td>\n",
       "      <td>-0.178</td>\n",
       "      <td>0.974</td>\n",
       "      <td>-0.102</td>\n",
       "      <td>0.373</td>\n",
       "      <td>-0.691</td>\n",
       "      <td>-0.433</td>\n",
       "      <td>-0.495</td>\n",
       "      <td>-0.395</td>\n",
       "      <td>-0.058</td>\n",
       "      <td>1.239</td>\n",
       "      <td>-1.299</td>\n",
       "    </tr>\n",
       "    <tr>\n",
       "      <th>7714</th>\n",
       "      <td>0.447</td>\n",
       "      <td>-0.178</td>\n",
       "      <td>0.974</td>\n",
       "      <td>-0.102</td>\n",
       "      <td>0.373</td>\n",
       "      <td>-0.691</td>\n",
       "      <td>-0.433</td>\n",
       "      <td>-0.616</td>\n",
       "      <td>-0.086</td>\n",
       "      <td>1.046</td>\n",
       "      <td>-0.985</td>\n",
       "      <td>-0.259</td>\n",
       "    </tr>\n",
       "    <tr>\n",
       "      <th>7715</th>\n",
       "      <td>0.447</td>\n",
       "      <td>-0.178</td>\n",
       "      <td>0.974</td>\n",
       "      <td>-0.102</td>\n",
       "      <td>0.373</td>\n",
       "      <td>-0.691</td>\n",
       "      <td>-0.433</td>\n",
       "      <td>-0.616</td>\n",
       "      <td>-0.086</td>\n",
       "      <td>1.046</td>\n",
       "      <td>-0.985</td>\n",
       "      <td>-0.259</td>\n",
       "    </tr>\n",
       "  </tbody>\n",
       "</table>\n",
       "<p>7716 rows × 12 columns</p>\n",
       "</div>"
      ],
      "text/plain": [
       "      seller_type   fuel   name  seller_type1  transmission  owner  seats  \\\n",
       "0           0.447 -0.178  0.974        -0.102         0.373 -0.691 -0.433   \n",
       "1           0.447 -0.178 -0.760        -0.102         0.373  1.221 -0.433   \n",
       "2           0.447 -0.178 -0.760        -0.102         0.373  2.176 -0.433   \n",
       "3           0.447 -0.178 -0.760        -0.102         0.373 -0.691 -0.433   \n",
       "4           0.447 -0.178  0.974        -0.102         0.373 -0.691 -0.433   \n",
       "...           ...    ...    ...           ...           ...    ...    ...   \n",
       "7711        0.447 -0.178 -0.760        -0.102         0.373 -0.691 -0.433   \n",
       "7712        0.447 -0.178 -0.760        -0.102         0.373  0.265 -0.433   \n",
       "7713        0.447 -0.178  0.974        -0.102         0.373 -0.691 -0.433   \n",
       "7714        0.447 -0.178  0.974        -0.102         0.373 -0.691 -0.433   \n",
       "7715        0.447 -0.178  0.974        -0.102         0.373 -0.691 -0.433   \n",
       "\n",
       "      max_power  engine  mileage  km_driven   year  \n",
       "0        -0.492  -0.395    1.002      1.836  0.001  \n",
       "1         0.424   0.127    0.417      1.239  0.001  \n",
       "2        -0.368   0.124   -0.472      1.707 -2.079  \n",
       "3         0.005  -0.086    0.898      1.403 -1.039  \n",
       "4        -0.051  -0.290   -0.886      1.239 -1.819  \n",
       "...         ...     ...      ...        ...    ...  \n",
       "7711     -0.217  -0.501   -0.265      1.005 -0.259  \n",
       "7712      0.625   0.116   -0.705      1.215 -1.819  \n",
       "7713     -0.495  -0.395   -0.058      1.239 -1.299  \n",
       "7714     -0.616  -0.086    1.046     -0.985 -0.259  \n",
       "7715     -0.616  -0.086    1.046     -0.985 -0.259  \n",
       "\n",
       "[7716 rows x 12 columns]"
      ]
     },
     "execution_count": 125,
     "metadata": {},
     "output_type": "execute_result"
    }
   ],
   "source": [
    "#scaling of data\n",
    "\n",
    "from sklearn.preprocessing import StandardScaler\n",
    "sc = StandardScaler()\n",
    "stand_scale = sc.fit_transform(x)\n",
    "x=pd.DataFrame(stand_scale,columns=x.columns)\n",
    "x"
   ]
  },
  {
   "cell_type": "markdown",
   "metadata": {},
   "source": [
    "# Splitting the data"
   ]
  },
  {
   "cell_type": "code",
   "execution_count": 126,
   "metadata": {},
   "outputs": [],
   "source": [
    "from sklearn.model_selection import train_test_split\n",
    "\n",
    "x_train,x_test,y_train,y_test = train_test_split(x,y,test_size=0.2,random_state=0)"
   ]
  },
  {
   "cell_type": "markdown",
   "metadata": {},
   "source": [
    "Linear regresiion model"
   ]
  },
  {
   "cell_type": "code",
   "execution_count": 132,
   "metadata": {},
   "outputs": [
    {
     "data": {
      "text/plain": [
       "0.6619201947087803"
      ]
     },
     "execution_count": 132,
     "metadata": {},
     "output_type": "execute_result"
    }
   ],
   "source": [
    "from sklearn.linear_model import LinearRegression\n",
    "from sklearn.metrics import accuracy_score,r2_score\n",
    "\n",
    "\n",
    "lr = LinearRegression()\n",
    "\n",
    "lr.fit(x_train,y_train)\n",
    "lr.score(x_test,y_test)"
   ]
  },
  {
   "cell_type": "code",
   "execution_count": 134,
   "metadata": {},
   "outputs": [
    {
     "data": {
      "text/plain": [
       "0.6619201947087803"
      ]
     },
     "execution_count": 134,
     "metadata": {},
     "output_type": "execute_result"
    }
   ],
   "source": [
    "#or\n",
    "y_pred=lr.predict(x_test)\n",
    "r2_score(y_test,y_pred)\n",
    "\n"
   ]
  },
  {
   "cell_type": "code",
   "execution_count": 136,
   "metadata": {},
   "outputs": [
    {
     "name": "stdout",
     "output_type": "stream",
     "text": [
      "0.8686901762423129\n"
     ]
    }
   ],
   "source": [
    "'''SVM'''\n",
    "from sklearn.svm import SVR\n",
    "regressor = SVR(C=5000,kernel=\"poly\")\n",
    "regressor.fit(x_train,y_train)\n",
    "\n",
    "y_pred = regressor.predict(x_test)\n",
    "print(r2_score(y_test,y_pred))"
   ]
  },
  {
   "cell_type": "code",
   "execution_count": 137,
   "metadata": {},
   "outputs": [
    {
     "name": "stdout",
     "output_type": "stream",
     "text": [
      "0.9636236531405247\n"
     ]
    }
   ],
   "source": [
    "'''Decision Tree'''\n",
    "from sklearn.tree import DecisionTreeRegressor\n",
    "regressor = DecisionTreeRegressor(max_depth=15,min_samples_split=25)\n",
    "regressor.fit(x_train,y_train)\n",
    "\n",
    "y_pred = regressor.predict(x_test)\n",
    "print(r2_score(y_test,y_pred))"
   ]
  },
  {
   "cell_type": "code",
   "execution_count": null,
   "metadata": {},
   "outputs": [],
   "source": []
  }
 ],
 "metadata": {
  "kernelspec": {
   "display_name": "Python 3",
   "language": "python",
   "name": "python3"
  },
  "language_info": {
   "codemirror_mode": {
    "name": "ipython",
    "version": 3
   },
   "file_extension": ".py",
   "mimetype": "text/x-python",
   "name": "python",
   "nbconvert_exporter": "python",
   "pygments_lexer": "ipython3",
   "version": "3.10.9"
  },
  "orig_nbformat": 4
 },
 "nbformat": 4,
 "nbformat_minor": 2
}
